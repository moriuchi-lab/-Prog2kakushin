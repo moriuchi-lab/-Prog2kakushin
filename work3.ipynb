{
  "nbformat": 4,
  "nbformat_minor": 0,
  "metadata": {
    "colab": {
      "provenance": [],
      "authorship_tag": "ABX9TyObAqDRz4ejBDu5NM8ie+KE",
      "include_colab_link": true
    },
    "kernelspec": {
      "name": "python3",
      "display_name": "Python 3"
    },
    "language_info": {
      "name": "python"
    }
  },
  "cells": [
    {
      "cell_type": "markdown",
      "metadata": {
        "id": "view-in-github",
        "colab_type": "text"
      },
      "source": [
        "<a href=\"https://colab.research.google.com/github/moriuchi-lab/-Prog2kakushin/blob/main/work3.ipynb\" target=\"_parent\"><img src=\"https://colab.research.google.com/assets/colab-badge.svg\" alt=\"Open In Colab\"/></a>"
      ]
    },
    {
      "cell_type": "markdown",
      "source": [
        "画像処理を用いる"
      ],
      "metadata": {
        "id": "YmDq_CVz2rmv"
      }
    },
    {
      "cell_type": "markdown",
      "source": [
        "スクラッチシート\n",
        "\n",
        "カラフルな柄が作れます"
      ],
      "metadata": {
        "id": "u5pw8toyA5tO"
      }
    },
    {
      "cell_type": "code",
      "source": [
        "!wget \"https://drive.google.com/uc?export=download&id=1hsUauww6HMD9YMejBh72as9x9wNCWeBc\" -O images.zip\n",
        "!unzip -o images.zip"
      ],
      "metadata": {
        "id": "aIlqL1bXqXuF"
      },
      "execution_count": null,
      "outputs": []
    },
    {
      "cell_type": "code",
      "source": [
        "import numpy as np\n",
        "import cv2, sys\n",
        "from google.colab.patches import cv2_imshow"
      ],
      "metadata": {
        "id": "EeM6pP5c2Pjz"
      },
      "execution_count": 119,
      "outputs": []
    },
    {
      "cell_type": "markdown",
      "source": [
        "背景を作成"
      ],
      "metadata": {
        "id": "d6NDik6GBpGy"
      }
    },
    {
      "cell_type": "code",
      "source": [
        "img=np.zeros((240,320,3),np.uint8)\n",
        "img.fill( 255 )\n",
        "h = img.shape[0]\n",
        "w = img.shape[1]\n",
        "x=0\n",
        "z=0\n",
        "for i in range(h):\n",
        "  for j in range(w):\n",
        "    a=np.random.randint(0,256)\n",
        "    b=np.random.randint(0,256)\n",
        "    c=np.random.randint(0,256)\n",
        "    cv2.rectangle(img,(0+x,0+z),(20+x,20+z),color=(a,b,c),thickness=-1)\n",
        "    z+=20\n",
        "  z=0\n",
        "  x+=20\n",
        "cv2_imshow(img)\n",
        "cv2.imwrite('color.png',img)"
      ],
      "metadata": {
        "colab": {
          "base_uri": "https://localhost:8080/",
          "height": 274
        },
        "id": "K3VFBXDorWUd",
        "outputId": "cc68e329-fc43-4288-eeb9-6d36e4e16979"
      },
      "execution_count": 151,
      "outputs": [
        {
          "output_type": "display_data",
          "data": {
            "text/plain": [
              "<PIL.Image.Image image mode=RGB size=320x240>"
            ],
            "image/png": "[encoded data removed]"
          },
          "metadata": {}
        },
        {
          "output_type": "execute_result",
          "data": {
            "text/plain": [
              "True"
            ]
          },
          "metadata": {},
          "execution_count": 151
        }
      ]
    },
    {
      "cell_type": "markdown",
      "source": [
        "背景と柄を重ねる"
      ],
      "metadata": {
        "id": "YDKO4xbrBsPz"
      }
    },
    {
      "cell_type": "code",
      "source": [
        "def random():\n",
        "  b1=np.random.randint(0,321)\n",
        "  b2=np.random.randint(0,241)\n",
        "  b3=np.random.randint(0,321)\n",
        "  b4=np.random.randint(0,241)\n",
        "  return b1,b2,b3,b4\n",
        "\n",
        "img1= np.zeros((240,320,3), np.uint8)\n",
        "while True:\n",
        "  print('何を描きますか?')\n",
        "  print('1.□　2.→　3.＊　4.○　5.◇　6.好きな文字')\n",
        "  a=int(input('番号を入力して下さい : '))\n",
        "  if a==1:\n",
        "    cv2.rectangle(img1, (random()[0],random()[1]), (random()[2],random()[3]), color=(255,255,255),thickness=2)\n",
        "  elif a==2:\n",
        "    cv2.arrowedLine(img1,(random()[0],random()[1]), (random()[2],random()[3]),color=(255,255,255),thickness=3,line_type=cv2.LINE_4,shift=0,tipLength=0.1)\n",
        "  elif a==3:\n",
        "    cv2.drawMarker(img1,(random()[0],random()[1]),(255,255,255),markerType=cv2.MARKER_STAR,markerSize=40,thickness=5)\n",
        "  elif a==4:\n",
        "    cv2.circle(img1,(random()[0],random()[1]),20,(255,255,255),thickness=3,lineType=cv2.LINE_AA)\n",
        "  elif a==5:\n",
        "    cv2.drawMarker(img1,(random()[0],random()[1]),(255,255,255),markerType=cv2.MARKER_DIAMOND,markerSize=50,thickness=3)\n",
        "  elif a==6:\n",
        "    b=input('書きたい文字を入力して下さい : ')\n",
        "    cv2.putText(img1,b,(random()[0],random()[1]),cv2.FONT_HERSHEY_SIMPLEX,1.0,(255,255,255),thickness=2)\n",
        "  c=input('まだ描きますか?(yes or no) ')\n",
        "  if c=='no':\n",
        "    break\n",
        "\n",
        "cv2.imwrite('black.png',img1)\n",
        "comparison=np.where(img1==[255,255,255],1,0)\n",
        "blend=np.array(img*comparison,dtype=np.uint8)\n",
        "file = \"library.jpg\"\n",
        "img3 = cv2.imread( file )\n",
        "img2 = cv2.resize( img3, (60,30) )\n",
        "if img3 is None:\n",
        "  sys.exit(f'エラー: ファイルを開けませんでした {file}')\n",
        "h = img2.shape[0]\n",
        "w = img2.shape[1]\n",
        "blend[210:210+h, 260:260+w] = img2\n",
        "cv2_imshow(blend)"
      ],
      "metadata": {
        "colab": {
          "base_uri": "https://localhost:8080/",
          "height": 691
        },
        "id": "NcEe_NbSF-Z6",
        "outputId": "91f139a9-c152-4c6e-c9b2-5b3e7f0737ad"
      },
      "execution_count": 154,
      "outputs": [
        {
          "name": "stdout",
          "output_type": "stream",
          "text": [
            "何を描きますか?\n",
            "1.□　2.→　3.＊　4.○　5.◇　6.好きな文字\n",
            "番号を入力して下さい : 1\n",
            "まだ描きますか?(yes or no) yes\n",
            "何を描きますか?\n",
            "1.□　2.→　3.＊　4.○　5.◇　6.好きな文字\n",
            "番号を入力して下さい : 2\n",
            "まだ描きますか?(yes or no) yes\n",
            "何を描きますか?\n",
            "1.□　2.→　3.＊　4.○　5.◇　6.好きな文字\n",
            "番号を入力して下さい : 3\n",
            "まだ描きますか?(yes or no) yes\n",
            "何を描きますか?\n",
            "1.□　2.→　3.＊　4.○　5.◇　6.好きな文字\n",
            "番号を入力して下さい : 4\n",
            "まだ描きますか?(yes or no) yes\n",
            "何を描きますか?\n",
            "1.□　2.→　3.＊　4.○　5.◇　6.好きな文字\n",
            "番号を入力して下さい : 5\n",
            "まだ描きますか?(yes or no) yes\n",
            "何を描きますか?\n",
            "1.□　2.→　3.＊　4.○　5.◇　6.好きな文字\n",
            "番号を入力して下さい : 6\n",
            "書きたい文字を入力して下さい : Python\n",
            "まだ描きますか?(yes or no) no\n"
          ]
        },
        {
          "output_type": "display_data",
          "data": {
            "text/plain": [
              "<PIL.Image.Image image mode=RGB size=320x240>"
            ],
            "image/png": "[encoded data removed]"
          },
          "metadata": {}
        }
      ]
    }
  ]
}